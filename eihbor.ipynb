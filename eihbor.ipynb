{
 "cells": [
  {
   "cell_type": "code",
   "execution_count": null,
   "id": "9e0f0da0-3fb7-4dde-9845-a2f615d2be5f",
   "metadata": {},
   "outputs": [],
   "source": [
    "import numpy as np\n",
    "import matplotlib.pyplot as plt\n",
    "import pandas as pd\n",
    "import seaborn as sns\n",
    "from sklearn.neighbors import KNeighborsClassifier\n",
    "\n",
    "data_set = pd.read_excel('data_set/titanic3 (3) (1) - Copie.xls')\n",
    "data_set.head()\n",
    "\n",
    "# data data analys and editing\n",
    "data_set = data_set.drop(['name','sibsp','parch','ticket','fare','cabin','embarked','boat','body','home.dest'],axis=1)\n",
    "data_set.dropna(axis= 0, inplace= True)\n",
    "data_set['sex'].replace(['female','male'],[0,1],inplace = True)\n",
    "data_set.head()\n",
    "\n",
    "# data processin and modeling\n",
    "model = KNeighborsClassifier()\n",
    "x = data_set.drop('survived',axis=1)\n",
    "y = data_set[\"survived\"]\n",
    "model.fit(x,y)\n",
    "model.score(x,y)\n",
    "model.predict(x)"
   ]
  }
 ],
 "metadata": {
  "language_info": {
   "codemirror_mode": {
    "name": "ipython",
    "version": 3
   },
   "file_extension": ".py",
   "mimetype": "text/x-python",
   "name": "python",
   "nbconvert_exporter": "python",
   "pygments_lexer": "ipython3",
   "version": 3
  }
 },
 "nbformat": 4,
 "nbformat_minor": 2
}
